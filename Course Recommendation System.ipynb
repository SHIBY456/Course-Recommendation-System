{
 "cells": [
  {
   "cell_type": "code",
   "execution_count": 1,
   "id": "2bd0ee67-f9a4-4de0-840a-fdc83d721b84",
   "metadata": {},
   "outputs": [],
   "source": [
    "import numpy as np\n",
    "import pandas as pd"
   ]
  },
  {
   "cell_type": "code",
   "execution_count": 2,
   "id": "88fed4eb-5dfd-4a77-b6d6-5d91cd9bc6b9",
   "metadata": {},
   "outputs": [
    {
     "data": {
      "text/html": [
       "<div>\n",
       "<style scoped>\n",
       "    .dataframe tbody tr th:only-of-type {\n",
       "        vertical-align: middle;\n",
       "    }\n",
       "\n",
       "    .dataframe tbody tr th {\n",
       "        vertical-align: top;\n",
       "    }\n",
       "\n",
       "    .dataframe thead th {\n",
       "        text-align: right;\n",
       "    }\n",
       "</style>\n",
       "<table border=\"1\" class=\"dataframe\">\n",
       "  <thead>\n",
       "    <tr style=\"text-align: right;\">\n",
       "      <th></th>\n",
       "      <th>Course Name</th>\n",
       "      <th>University</th>\n",
       "      <th>Difficulty Level</th>\n",
       "      <th>Course Rating</th>\n",
       "      <th>Course URL</th>\n",
       "      <th>Course Description</th>\n",
       "      <th>Skills</th>\n",
       "    </tr>\n",
       "  </thead>\n",
       "  <tbody>\n",
       "    <tr>\n",
       "      <th>0</th>\n",
       "      <td>Write A Feature Length Screenplay For Film Or ...</td>\n",
       "      <td>Michigan State University</td>\n",
       "      <td>Beginner</td>\n",
       "      <td>4.8</td>\n",
       "      <td>https://www.coursera.org/learn/write-a-feature...</td>\n",
       "      <td>Write a Full Length Feature Film Script  In th...</td>\n",
       "      <td>Drama  Comedy  peering  screenwriting  film  D...</td>\n",
       "    </tr>\n",
       "    <tr>\n",
       "      <th>1</th>\n",
       "      <td>Business Strategy: Business Model Canvas Analy...</td>\n",
       "      <td>Coursera Project Network</td>\n",
       "      <td>Beginner</td>\n",
       "      <td>4.8</td>\n",
       "      <td>https://www.coursera.org/learn/canvas-analysis...</td>\n",
       "      <td>By the end of this guided project, you will be...</td>\n",
       "      <td>Finance  business plan  persona (user experien...</td>\n",
       "    </tr>\n",
       "    <tr>\n",
       "      <th>2</th>\n",
       "      <td>Silicon Thin Film Solar Cells</td>\n",
       "      <td>�cole Polytechnique</td>\n",
       "      <td>Advanced</td>\n",
       "      <td>4.1</td>\n",
       "      <td>https://www.coursera.org/learn/silicon-thin-fi...</td>\n",
       "      <td>This course consists of a general presentation...</td>\n",
       "      <td>chemistry  physics  Solar Energy  film  lambda...</td>\n",
       "    </tr>\n",
       "    <tr>\n",
       "      <th>3</th>\n",
       "      <td>Finance for Managers</td>\n",
       "      <td>IESE Business School</td>\n",
       "      <td>Intermediate</td>\n",
       "      <td>4.8</td>\n",
       "      <td>https://www.coursera.org/learn/operational-fin...</td>\n",
       "      <td>When it comes to numbers, there is always more...</td>\n",
       "      <td>accounts receivable  dupont analysis  analysis...</td>\n",
       "    </tr>\n",
       "    <tr>\n",
       "      <th>4</th>\n",
       "      <td>Retrieve Data using Single-Table SQL Queries</td>\n",
       "      <td>Coursera Project Network</td>\n",
       "      <td>Beginner</td>\n",
       "      <td>4.6</td>\n",
       "      <td>https://www.coursera.org/learn/single-table-sq...</td>\n",
       "      <td>In this course you�ll learn how to effectively...</td>\n",
       "      <td>Data Analysis  select (sql)  database manageme...</td>\n",
       "    </tr>\n",
       "  </tbody>\n",
       "</table>\n",
       "</div>"
      ],
      "text/plain": [
       "                                         Course Name  \\\n",
       "0  Write A Feature Length Screenplay For Film Or ...   \n",
       "1  Business Strategy: Business Model Canvas Analy...   \n",
       "2                      Silicon Thin Film Solar Cells   \n",
       "3                               Finance for Managers   \n",
       "4       Retrieve Data using Single-Table SQL Queries   \n",
       "\n",
       "                  University Difficulty Level Course Rating  \\\n",
       "0  Michigan State University         Beginner           4.8   \n",
       "1   Coursera Project Network         Beginner           4.8   \n",
       "2        �cole Polytechnique         Advanced           4.1   \n",
       "3       IESE Business School     Intermediate           4.8   \n",
       "4   Coursera Project Network         Beginner           4.6   \n",
       "\n",
       "                                          Course URL  \\\n",
       "0  https://www.coursera.org/learn/write-a-feature...   \n",
       "1  https://www.coursera.org/learn/canvas-analysis...   \n",
       "2  https://www.coursera.org/learn/silicon-thin-fi...   \n",
       "3  https://www.coursera.org/learn/operational-fin...   \n",
       "4  https://www.coursera.org/learn/single-table-sq...   \n",
       "\n",
       "                                  Course Description  \\\n",
       "0  Write a Full Length Feature Film Script  In th...   \n",
       "1  By the end of this guided project, you will be...   \n",
       "2  This course consists of a general presentation...   \n",
       "3  When it comes to numbers, there is always more...   \n",
       "4  In this course you�ll learn how to effectively...   \n",
       "\n",
       "                                              Skills  \n",
       "0  Drama  Comedy  peering  screenwriting  film  D...  \n",
       "1  Finance  business plan  persona (user experien...  \n",
       "2  chemistry  physics  Solar Energy  film  lambda...  \n",
       "3  accounts receivable  dupont analysis  analysis...  \n",
       "4  Data Analysis  select (sql)  database manageme...  "
      ]
     },
     "execution_count": 2,
     "metadata": {},
     "output_type": "execute_result"
    }
   ],
   "source": [
    "data = pd.read_csv(r\"C:\\Users\\shiby\\Downloads\\archive (9)\\Coursera.csv\")\n",
    "data.head(5)"
   ]
  },
  {
   "cell_type": "code",
   "execution_count": 3,
   "id": "ec4566fa-f149-486a-b6b4-5b2f7af9ae9b",
   "metadata": {},
   "outputs": [],
   "source": [
    "import neattext.functions as nfx"
   ]
  },
  {
   "cell_type": "code",
   "execution_count": 4,
   "id": "212d3286-7391-43da-8962-6dc94921b6d3",
   "metadata": {},
   "outputs": [
    {
     "data": {
      "text/html": [
       "<div>\n",
       "<style scoped>\n",
       "    .dataframe tbody tr th:only-of-type {\n",
       "        vertical-align: middle;\n",
       "    }\n",
       "\n",
       "    .dataframe tbody tr th {\n",
       "        vertical-align: top;\n",
       "    }\n",
       "\n",
       "    .dataframe thead th {\n",
       "        text-align: right;\n",
       "    }\n",
       "</style>\n",
       "<table border=\"1\" class=\"dataframe\">\n",
       "  <thead>\n",
       "    <tr style=\"text-align: right;\">\n",
       "      <th></th>\n",
       "      <th>Course Name</th>\n",
       "      <th>Difficulty Level</th>\n",
       "      <th>Course Description</th>\n",
       "      <th>Skills</th>\n",
       "    </tr>\n",
       "  </thead>\n",
       "  <tbody>\n",
       "    <tr>\n",
       "      <th>0</th>\n",
       "      <td>Write A Feature Length Screenplay For Film Or ...</td>\n",
       "      <td>Beginner</td>\n",
       "      <td>Write a Full Length Feature Film Script  In th...</td>\n",
       "      <td>Drama  Comedy  peering  screenwriting  film  D...</td>\n",
       "    </tr>\n",
       "    <tr>\n",
       "      <th>1</th>\n",
       "      <td>Business Strategy: Business Model Canvas Analy...</td>\n",
       "      <td>Beginner</td>\n",
       "      <td>By the end of this guided project, you will be...</td>\n",
       "      <td>Finance  business plan  persona (user experien...</td>\n",
       "    </tr>\n",
       "  </tbody>\n",
       "</table>\n",
       "</div>"
      ],
      "text/plain": [
       "                                         Course Name Difficulty Level  \\\n",
       "0  Write A Feature Length Screenplay For Film Or ...         Beginner   \n",
       "1  Business Strategy: Business Model Canvas Analy...         Beginner   \n",
       "\n",
       "                                  Course Description  \\\n",
       "0  Write a Full Length Feature Film Script  In th...   \n",
       "1  By the end of this guided project, you will be...   \n",
       "\n",
       "                                              Skills  \n",
       "0  Drama  Comedy  peering  screenwriting  film  D...  \n",
       "1  Finance  business plan  persona (user experien...  "
      ]
     },
     "execution_count": 4,
     "metadata": {},
     "output_type": "execute_result"
    }
   ],
   "source": [
    "data = data[['Course Name','Difficulty Level','Course Description','Skills']]\n",
    "data.head(2)"
   ]
  },
  {
   "cell_type": "markdown",
   "id": "bbc75ff9-5f6d-4e0c-87a1-afbede2dc6e7",
   "metadata": {},
   "source": [
    "data['Course Name'] = data['Course Name'].str.replace(' ',',')\n",
    "data['Course Name'] = data['Course Name'].str.replace(',,',',')\n",
    "data['Course Name'] = data['Course Name'].str.replace(':','')\n",
    "\n",
    "\n",
    "data['Course Description'] = data['Course Description'].str.replace(' ',',')\n",
    "data['Course Description'] = data['Course Description'].str.replace(',,',',')\n",
    "data['Course Description'] = data['Course Description'].str.replace('_','')\n",
    "data['Course Description'] = data['Course Description'].str.replace(':','')\n",
    "data['Course Description'] = data['Course Description'].str.replace('(','')\n",
    "data['Course Description'] = data['Course Description'].str.replace(')','')\n",
    "\n",
    "#removing parenthesis from skills columns \n",
    "data['Skills'] = data['Skills'].str.replace('(','')\n",
    "data['Skills'] = data['Skills'].str.replace(')','')"
   ]
  },
  {
   "cell_type": "code",
   "execution_count": 5,
   "id": "054bacc2-01d0-4509-a444-64638c067ff2",
   "metadata": {},
   "outputs": [
    {
     "data": {
      "text/html": [
       "<div>\n",
       "<style scoped>\n",
       "    .dataframe tbody tr th:only-of-type {\n",
       "        vertical-align: middle;\n",
       "    }\n",
       "\n",
       "    .dataframe tbody tr th {\n",
       "        vertical-align: top;\n",
       "    }\n",
       "\n",
       "    .dataframe thead th {\n",
       "        text-align: right;\n",
       "    }\n",
       "</style>\n",
       "<table border=\"1\" class=\"dataframe\">\n",
       "  <thead>\n",
       "    <tr style=\"text-align: right;\">\n",
       "      <th></th>\n",
       "      <th>Course Name</th>\n",
       "      <th>Difficulty Level</th>\n",
       "      <th>Course Description</th>\n",
       "      <th>Skills</th>\n",
       "    </tr>\n",
       "  </thead>\n",
       "  <tbody>\n",
       "    <tr>\n",
       "      <th>0</th>\n",
       "      <td>Write A Feature Length Screenplay For Film Or ...</td>\n",
       "      <td>Beginner</td>\n",
       "      <td>Write a Full Length Feature Film Script  In th...</td>\n",
       "      <td>Drama  Comedy  peering  screenwriting  film  D...</td>\n",
       "    </tr>\n",
       "    <tr>\n",
       "      <th>1</th>\n",
       "      <td>Business Strategy: Business Model Canvas Analy...</td>\n",
       "      <td>Beginner</td>\n",
       "      <td>By the end of this guided project, you will be...</td>\n",
       "      <td>Finance  business plan  persona (user experien...</td>\n",
       "    </tr>\n",
       "    <tr>\n",
       "      <th>2</th>\n",
       "      <td>Silicon Thin Film Solar Cells</td>\n",
       "      <td>Advanced</td>\n",
       "      <td>This course consists of a general presentation...</td>\n",
       "      <td>chemistry  physics  Solar Energy  film  lambda...</td>\n",
       "    </tr>\n",
       "    <tr>\n",
       "      <th>3</th>\n",
       "      <td>Finance for Managers</td>\n",
       "      <td>Intermediate</td>\n",
       "      <td>When it comes to numbers, there is always more...</td>\n",
       "      <td>accounts receivable  dupont analysis  analysis...</td>\n",
       "    </tr>\n",
       "    <tr>\n",
       "      <th>4</th>\n",
       "      <td>Retrieve Data using Single-Table SQL Queries</td>\n",
       "      <td>Beginner</td>\n",
       "      <td>In this course you�ll learn how to effectively...</td>\n",
       "      <td>Data Analysis  select (sql)  database manageme...</td>\n",
       "    </tr>\n",
       "  </tbody>\n",
       "</table>\n",
       "</div>"
      ],
      "text/plain": [
       "                                         Course Name Difficulty Level  \\\n",
       "0  Write A Feature Length Screenplay For Film Or ...         Beginner   \n",
       "1  Business Strategy: Business Model Canvas Analy...         Beginner   \n",
       "2                      Silicon Thin Film Solar Cells         Advanced   \n",
       "3                               Finance for Managers     Intermediate   \n",
       "4       Retrieve Data using Single-Table SQL Queries         Beginner   \n",
       "\n",
       "                                  Course Description  \\\n",
       "0  Write a Full Length Feature Film Script  In th...   \n",
       "1  By the end of this guided project, you will be...   \n",
       "2  This course consists of a general presentation...   \n",
       "3  When it comes to numbers, there is always more...   \n",
       "4  In this course you�ll learn how to effectively...   \n",
       "\n",
       "                                              Skills  \n",
       "0  Drama  Comedy  peering  screenwriting  film  D...  \n",
       "1  Finance  business plan  persona (user experien...  \n",
       "2  chemistry  physics  Solar Energy  film  lambda...  \n",
       "3  accounts receivable  dupont analysis  analysis...  \n",
       "4  Data Analysis  select (sql)  database manageme...  "
      ]
     },
     "execution_count": 5,
     "metadata": {},
     "output_type": "execute_result"
    }
   ],
   "source": [
    "data.head(5)"
   ]
  },
  {
   "cell_type": "code",
   "execution_count": 6,
   "id": "f001d428-6053-49d4-b36b-aca853c68020",
   "metadata": {
    "tags": []
   },
   "outputs": [],
   "source": [
    "data['tags'] = data['Course Name'] +' '+ data['Difficulty Level'] +' '+ data['Course Description'] +' '+ data['Skills']"
   ]
  },
  {
   "cell_type": "code",
   "execution_count": 7,
   "id": "96b0a581-2046-4b1b-8638-c3928075556c",
   "metadata": {},
   "outputs": [
    {
     "data": {
      "text/plain": [
       "'The New Nordic Diet - from Gastronomy to Health Beginner The New Nordic Diet is a new food culture developed in 2009-13 with key emphasis on gastronomy, health, and environment. Major research in its effect on acceptability, behaviour and learning skills, and disease prevention have been conducted by the OPUS centre at the University of Copenhagen and the people behind the award-winning restaurant Noma in Copenhagen.  This course will give the participants the opportunity to experience a healthy and palatable new food and eating concept diet �The New Nordic Diet� and an understanding of how food and diets can affect mental and physical health and ensure the foundation for a healthier life style for future generations with a regional based diet and food culture.    In Denmark �the Nordic cuisine�, has expanded from food eaten at the award-winning Copenhagen restaurant Noma to home-made dishes of local ingredients of whole-grain rye bread, root vegetables, berries, fresh fish and seaweed.  This course is also part of the EIT Health Programme dietetics  dieting  sustainability  cardiovascular disease  diet (nutrition)  acceptance  nutrition  lifestyle disease  eating  diets life-sciences nutrition'"
      ]
     },
     "execution_count": 7,
     "metadata": {},
     "output_type": "execute_result"
    }
   ],
   "source": [
    "data['tags'].iloc[100]"
   ]
  },
  {
   "cell_type": "code",
   "execution_count": 8,
   "id": "41f6855f-2479-4974-9e08-218e7eebd96f",
   "metadata": {},
   "outputs": [],
   "source": [
    "new_df = data[['Course Name','tags']]"
   ]
  },
  {
   "cell_type": "code",
   "execution_count": 9,
   "id": "d6fc1de9-070b-45da-917a-35c56f1dfb0b",
   "metadata": {},
   "outputs": [
    {
     "data": {
      "text/html": [
       "<div>\n",
       "<style scoped>\n",
       "    .dataframe tbody tr th:only-of-type {\n",
       "        vertical-align: middle;\n",
       "    }\n",
       "\n",
       "    .dataframe tbody tr th {\n",
       "        vertical-align: top;\n",
       "    }\n",
       "\n",
       "    .dataframe thead th {\n",
       "        text-align: right;\n",
       "    }\n",
       "</style>\n",
       "<table border=\"1\" class=\"dataframe\">\n",
       "  <thead>\n",
       "    <tr style=\"text-align: right;\">\n",
       "      <th></th>\n",
       "      <th>Course Name</th>\n",
       "      <th>tags</th>\n",
       "    </tr>\n",
       "  </thead>\n",
       "  <tbody>\n",
       "    <tr>\n",
       "      <th>0</th>\n",
       "      <td>Write A Feature Length Screenplay For Film Or ...</td>\n",
       "      <td>Write A Feature Length Screenplay For Film Or ...</td>\n",
       "    </tr>\n",
       "    <tr>\n",
       "      <th>1</th>\n",
       "      <td>Business Strategy: Business Model Canvas Analy...</td>\n",
       "      <td>Business Strategy: Business Model Canvas Analy...</td>\n",
       "    </tr>\n",
       "    <tr>\n",
       "      <th>2</th>\n",
       "      <td>Silicon Thin Film Solar Cells</td>\n",
       "      <td>Silicon Thin Film Solar Cells Advanced This co...</td>\n",
       "    </tr>\n",
       "    <tr>\n",
       "      <th>3</th>\n",
       "      <td>Finance for Managers</td>\n",
       "      <td>Finance for Managers Intermediate When it come...</td>\n",
       "    </tr>\n",
       "    <tr>\n",
       "      <th>4</th>\n",
       "      <td>Retrieve Data using Single-Table SQL Queries</td>\n",
       "      <td>Retrieve Data using Single-Table SQL Queries B...</td>\n",
       "    </tr>\n",
       "  </tbody>\n",
       "</table>\n",
       "</div>"
      ],
      "text/plain": [
       "                                         Course Name  \\\n",
       "0  Write A Feature Length Screenplay For Film Or ...   \n",
       "1  Business Strategy: Business Model Canvas Analy...   \n",
       "2                      Silicon Thin Film Solar Cells   \n",
       "3                               Finance for Managers   \n",
       "4       Retrieve Data using Single-Table SQL Queries   \n",
       "\n",
       "                                                tags  \n",
       "0  Write A Feature Length Screenplay For Film Or ...  \n",
       "1  Business Strategy: Business Model Canvas Analy...  \n",
       "2  Silicon Thin Film Solar Cells Advanced This co...  \n",
       "3  Finance for Managers Intermediate When it come...  \n",
       "4  Retrieve Data using Single-Table SQL Queries B...  "
      ]
     },
     "execution_count": 9,
     "metadata": {},
     "output_type": "execute_result"
    }
   ],
   "source": [
    "new_df.head(5)"
   ]
  },
  {
   "cell_type": "code",
   "execution_count": 10,
   "id": "3c8c7095-8206-4aaa-a408-ab21109ca313",
   "metadata": {},
   "outputs": [
    {
     "data": {
      "text/plain": [
       "'The New Nordic Diet - from Gastronomy to Health Beginner The New Nordic Diet is a new food culture developed in 2009-13 with key emphasis on gastronomy, health, and environment. Major research in its effect on acceptability, behaviour and learning skills, and disease prevention have been conducted by the OPUS centre at the University of Copenhagen and the people behind the award-winning restaurant Noma in Copenhagen.  This course will give the participants the opportunity to experience a healthy and palatable new food and eating concept diet �The New Nordic Diet� and an understanding of how food and diets can affect mental and physical health and ensure the foundation for a healthier life style for future generations with a regional based diet and food culture.    In Denmark �the Nordic cuisine�, has expanded from food eaten at the award-winning Copenhagen restaurant Noma to home-made dishes of local ingredients of whole-grain rye bread, root vegetables, berries, fresh fish and seaweed.  This course is also part of the EIT Health Programme dietetics  dieting  sustainability  cardiovascular disease  diet (nutrition)  acceptance  nutrition  lifestyle disease  eating  diets life-sciences nutrition'"
      ]
     },
     "execution_count": 10,
     "metadata": {},
     "output_type": "execute_result"
    }
   ],
   "source": [
    "new_df['tags'].iloc[100]"
   ]
  },
  {
   "cell_type": "markdown",
   "id": "ae239d34-b2f5-4d47-8e3d-fbc52d09f48d",
   "metadata": {},
   "source": [
    "new_df['tags'] = new_df['tags'].str.replace(',',' ')\n",
    "new_df['tags'] = new_df['tags'].str.replace('-',' ')\n"
   ]
  },
  {
   "cell_type": "code",
   "execution_count": 11,
   "id": "0d424ca1-3965-4d35-a920-98a6b8a49bc7",
   "metadata": {},
   "outputs": [
    {
     "data": {
      "text/plain": [
       "'The New Nordic Diet - from Gastronomy to Health Beginner The New Nordic Diet is a new food culture developed in 2009-13 with key emphasis on gastronomy, health, and environment. Major research in its effect on acceptability, behaviour and learning skills, and disease prevention have been conducted by the OPUS centre at the University of Copenhagen and the people behind the award-winning restaurant Noma in Copenhagen.  This course will give the participants the opportunity to experience a healthy and palatable new food and eating concept diet �The New Nordic Diet� and an understanding of how food and diets can affect mental and physical health and ensure the foundation for a healthier life style for future generations with a regional based diet and food culture.    In Denmark �the Nordic cuisine�, has expanded from food eaten at the award-winning Copenhagen restaurant Noma to home-made dishes of local ingredients of whole-grain rye bread, root vegetables, berries, fresh fish and seaweed.  This course is also part of the EIT Health Programme dietetics  dieting  sustainability  cardiovascular disease  diet (nutrition)  acceptance  nutrition  lifestyle disease  eating  diets life-sciences nutrition'"
      ]
     },
     "execution_count": 11,
     "metadata": {},
     "output_type": "execute_result"
    }
   ],
   "source": [
    "new_df['tags'].iloc[100]"
   ]
  },
  {
   "cell_type": "markdown",
   "id": "43b85e4b-e19d-4820-a71e-1a02b0d78016",
   "metadata": {},
   "source": [
    "new_df['Course Name'] = data['Course Name'].str.replace(',',' ')"
   ]
  },
  {
   "cell_type": "code",
   "execution_count": 12,
   "id": "7739db4e-12e6-4ef0-8103-0f83f9937e30",
   "metadata": {},
   "outputs": [
    {
     "name": "stderr",
     "output_type": "stream",
     "text": [
      "C:\\Users\\shiby\\AppData\\Local\\Temp\\ipykernel_1856\\2809988695.py:1: SettingWithCopyWarning: \n",
      "A value is trying to be set on a copy of a slice from a DataFrame\n",
      "\n",
      "See the caveats in the documentation: https://pandas.pydata.org/pandas-docs/stable/user_guide/indexing.html#returning-a-view-versus-a-copy\n",
      "  new_df.rename(columns = {'Course Name':'course_name'}, inplace = True)\n"
     ]
    }
   ],
   "source": [
    "new_df.rename(columns = {'Course Name':'course_name'}, inplace = True)"
   ]
  },
  {
   "cell_type": "code",
   "execution_count": 13,
   "id": "bcaf40c7-944a-46e8-bbd1-a37b95a90e09",
   "metadata": {},
   "outputs": [
    {
     "name": "stderr",
     "output_type": "stream",
     "text": [
      "C:\\Users\\shiby\\AppData\\Local\\Temp\\ipykernel_1856\\172956468.py:1: SettingWithCopyWarning: \n",
      "A value is trying to be set on a copy of a slice from a DataFrame.\n",
      "Try using .loc[row_indexer,col_indexer] = value instead\n",
      "\n",
      "See the caveats in the documentation: https://pandas.pydata.org/pandas-docs/stable/user_guide/indexing.html#returning-a-view-versus-a-copy\n",
      "  new_df['tags'] = new_df['tags'].apply(lambda x:x.lower()) #lower casing the tags column\n"
     ]
    }
   ],
   "source": [
    "new_df['tags'] = new_df['tags'].apply(lambda x:x.lower()) #lower casing the tags column"
   ]
  },
  {
   "cell_type": "code",
   "execution_count": 14,
   "id": "29aacf5f-e4cd-4ffe-91a4-d730ef11e85e",
   "metadata": {},
   "outputs": [
    {
     "data": {
      "text/plain": [
       "'the new nordic diet - from gastronomy to health beginner the new nordic diet is a new food culture developed in 2009-13 with key emphasis on gastronomy, health, and environment. major research in its effect on acceptability, behaviour and learning skills, and disease prevention have been conducted by the opus centre at the university of copenhagen and the people behind the award-winning restaurant noma in copenhagen.  this course will give the participants the opportunity to experience a healthy and palatable new food and eating concept diet �the new nordic diet� and an understanding of how food and diets can affect mental and physical health and ensure the foundation for a healthier life style for future generations with a regional based diet and food culture.    in denmark �the nordic cuisine�, has expanded from food eaten at the award-winning copenhagen restaurant noma to home-made dishes of local ingredients of whole-grain rye bread, root vegetables, berries, fresh fish and seaweed.  this course is also part of the eit health programme dietetics  dieting  sustainability  cardiovascular disease  diet (nutrition)  acceptance  nutrition  lifestyle disease  eating  diets life-sciences nutrition'"
      ]
     },
     "execution_count": 14,
     "metadata": {},
     "output_type": "execute_result"
    }
   ],
   "source": [
    "new_df['tags'].iloc[100]"
   ]
  },
  {
   "cell_type": "code",
   "execution_count": 15,
   "id": "6aef7887-f4fe-4245-9253-7c64a7cea856",
   "metadata": {},
   "outputs": [
    {
     "name": "stderr",
     "output_type": "stream",
     "text": [
      "C:\\Users\\shiby\\AppData\\Local\\Temp\\ipykernel_1856\\2476997242.py:1: SettingWithCopyWarning: \n",
      "A value is trying to be set on a copy of a slice from a DataFrame.\n",
      "Try using .loc[row_indexer,col_indexer] = value instead\n",
      "\n",
      "See the caveats in the documentation: https://pandas.pydata.org/pandas-docs/stable/user_guide/indexing.html#returning-a-view-versus-a-copy\n",
      "  new_df['course_name']=new_df['course_name'].apply(nfx.remove_special_characters)\n"
     ]
    }
   ],
   "source": [
    "new_df['course_name']=new_df['course_name'].apply(nfx.remove_special_characters)\n"
   ]
  },
  {
   "cell_type": "code",
   "execution_count": 16,
   "id": "6793d4d1-d0b1-456f-aeb3-840e53d554a2",
   "metadata": {},
   "outputs": [
    {
     "data": {
      "text/plain": [
       "0       Write A Feature Length Screenplay For Film Or ...\n",
       "1       Business Strategy Business Model Canvas Analys...\n",
       "2                           Silicon Thin Film Solar Cells\n",
       "3                                    Finance for Managers\n",
       "4             Retrieve Data using SingleTable SQL Queries\n",
       "                              ...                        \n",
       "3517    Capstone Retrieving Processing and Visualizing...\n",
       "3518                      Patrick Henry Forgotten Founder\n",
       "3519    Business intelligence and data analytics Gener...\n",
       "3520                                  Rigid Body Dynamics\n",
       "3521    Architecting with Google Kubernetes Engine Pro...\n",
       "Name: course_name, Length: 3522, dtype: object"
      ]
     },
     "execution_count": 16,
     "metadata": {},
     "output_type": "execute_result"
    }
   ],
   "source": [
    "new_df['course_name']"
   ]
  },
  {
   "cell_type": "code",
   "execution_count": 17,
   "id": "c448c024-badb-40f1-b519-c7ebc3776e03",
   "metadata": {},
   "outputs": [
    {
     "name": "stderr",
     "output_type": "stream",
     "text": [
      "C:\\Users\\shiby\\AppData\\Local\\Temp\\ipykernel_1856\\421123727.py:1: SettingWithCopyWarning: \n",
      "A value is trying to be set on a copy of a slice from a DataFrame.\n",
      "Try using .loc[row_indexer,col_indexer] = value instead\n",
      "\n",
      "See the caveats in the documentation: https://pandas.pydata.org/pandas-docs/stable/user_guide/indexing.html#returning-a-view-versus-a-copy\n",
      "  new_df['tags'] = new_df['tags'].apply(nfx.remove_urls)\n",
      "C:\\Users\\shiby\\AppData\\Local\\Temp\\ipykernel_1856\\421123727.py:2: SettingWithCopyWarning: \n",
      "A value is trying to be set on a copy of a slice from a DataFrame.\n",
      "Try using .loc[row_indexer,col_indexer] = value instead\n",
      "\n",
      "See the caveats in the documentation: https://pandas.pydata.org/pandas-docs/stable/user_guide/indexing.html#returning-a-view-versus-a-copy\n",
      "  new_df['tags'] = new_df['tags'].apply(nfx.remove_stopwords)\n",
      "C:\\Users\\shiby\\AppData\\Local\\Temp\\ipykernel_1856\\421123727.py:3: SettingWithCopyWarning: \n",
      "A value is trying to be set on a copy of a slice from a DataFrame.\n",
      "Try using .loc[row_indexer,col_indexer] = value instead\n",
      "\n",
      "See the caveats in the documentation: https://pandas.pydata.org/pandas-docs/stable/user_guide/indexing.html#returning-a-view-versus-a-copy\n",
      "  new_df['tags'] = new_df['tags'].apply(nfx.remove_special_characters)\n"
     ]
    }
   ],
   "source": [
    "new_df['tags'] = new_df['tags'].apply(nfx.remove_urls)\n",
    "new_df['tags'] = new_df['tags'].apply(nfx.remove_stopwords)\n",
    "new_df['tags'] = new_df['tags'].apply(nfx.remove_special_characters)"
   ]
  },
  {
   "cell_type": "code",
   "execution_count": 18,
   "id": "89289a70-cf61-4411-af76-ba2ac6eb391d",
   "metadata": {},
   "outputs": [
    {
     "data": {
      "text/plain": [
       "'new nordic diet  gastronomy health beginner new nordic diet new food culture developed 200913 key emphasis gastronomy health environment major research effect acceptability behaviour learning skills disease prevention conducted opus centre university copenhagen people awardwinning restaurant noma copenhagen course participants opportunity experience healthy palatable new food eating concept diet the new nordic diet understanding food diets affect mental physical health ensure foundation healthier life style future generations regional based diet food culture denmark the nordic cuisine expanded food eaten awardwinning copenhagen restaurant noma homemade dishes local ingredients wholegrain rye bread root vegetables berries fresh fish seaweed course eit health programme dietetics dieting sustainability cardiovascular disease diet nutrition acceptance nutrition lifestyle disease eating diets lifesciences nutrition'"
      ]
     },
     "execution_count": 18,
     "metadata": {},
     "output_type": "execute_result"
    }
   ],
   "source": [
    "new_df['tags'].iloc[100]"
   ]
  },
  {
   "cell_type": "code",
   "execution_count": 19,
   "id": "cfb4123e-8008-447c-9008-227c8115a229",
   "metadata": {},
   "outputs": [
    {
     "data": {
      "text/html": [
       "<div>\n",
       "<style scoped>\n",
       "    .dataframe tbody tr th:only-of-type {\n",
       "        vertical-align: middle;\n",
       "    }\n",
       "\n",
       "    .dataframe tbody tr th {\n",
       "        vertical-align: top;\n",
       "    }\n",
       "\n",
       "    .dataframe thead th {\n",
       "        text-align: right;\n",
       "    }\n",
       "</style>\n",
       "<table border=\"1\" class=\"dataframe\">\n",
       "  <thead>\n",
       "    <tr style=\"text-align: right;\">\n",
       "      <th></th>\n",
       "      <th>course_name</th>\n",
       "      <th>tags</th>\n",
       "    </tr>\n",
       "  </thead>\n",
       "  <tbody>\n",
       "    <tr>\n",
       "      <th>200</th>\n",
       "      <td>App Design and Development for iOS</td>\n",
       "      <td>app design development ios advanced app design...</td>\n",
       "    </tr>\n",
       "    <tr>\n",
       "      <th>201</th>\n",
       "      <td>Introduction to the Arctic Climate</td>\n",
       "      <td>introduction arctic climate beginner universit...</td>\n",
       "    </tr>\n",
       "    <tr>\n",
       "      <th>202</th>\n",
       "      <td>Introduction to Programming with MATLAB</td>\n",
       "      <td>introduction programming matlab conversant cou...</td>\n",
       "    </tr>\n",
       "    <tr>\n",
       "      <th>203</th>\n",
       "      <td>Pharmaceutical and Medical Device Innovations</td>\n",
       "      <td>pharmaceutical medical device innovations begi...</td>\n",
       "    </tr>\n",
       "    <tr>\n",
       "      <th>204</th>\n",
       "      <td>Software Product Management Capstone</td>\n",
       "      <td>software product management capstone advanced ...</td>\n",
       "    </tr>\n",
       "    <tr>\n",
       "      <th>205</th>\n",
       "      <td>Datadriven Astronomy</td>\n",
       "      <td>datadriven astronomy advanced science undergoi...</td>\n",
       "    </tr>\n",
       "    <tr>\n",
       "      <th>206</th>\n",
       "      <td>Basics of Inclusive Design for Online Education</td>\n",
       "      <td>basics inclusive design online education advan...</td>\n",
       "    </tr>\n",
       "    <tr>\n",
       "      <th>207</th>\n",
       "      <td>Making Successful Decisions through the Strate...</td>\n",
       "      <td>making successful decisions strategy law  ethi...</td>\n",
       "    </tr>\n",
       "    <tr>\n",
       "      <th>208</th>\n",
       "      <td>Achieving Advanced Insights with BigQuery</td>\n",
       "      <td>achieving advanced insights bigquery advanced ...</td>\n",
       "    </tr>\n",
       "    <tr>\n",
       "      <th>209</th>\n",
       "      <td>Exploring Beethovens Piano Sonatas</td>\n",
       "      <td>exploring beethovens piano sonatas calibrated ...</td>\n",
       "    </tr>\n",
       "  </tbody>\n",
       "</table>\n",
       "</div>"
      ],
      "text/plain": [
       "                                           course_name  \\\n",
       "200                 App Design and Development for iOS   \n",
       "201                 Introduction to the Arctic Climate   \n",
       "202            Introduction to Programming with MATLAB   \n",
       "203      Pharmaceutical and Medical Device Innovations   \n",
       "204               Software Product Management Capstone   \n",
       "205                               Datadriven Astronomy   \n",
       "206    Basics of Inclusive Design for Online Education   \n",
       "207  Making Successful Decisions through the Strate...   \n",
       "208          Achieving Advanced Insights with BigQuery   \n",
       "209                 Exploring Beethovens Piano Sonatas   \n",
       "\n",
       "                                                  tags  \n",
       "200  app design development ios advanced app design...  \n",
       "201  introduction arctic climate beginner universit...  \n",
       "202  introduction programming matlab conversant cou...  \n",
       "203  pharmaceutical medical device innovations begi...  \n",
       "204  software product management capstone advanced ...  \n",
       "205  datadriven astronomy advanced science undergoi...  \n",
       "206  basics inclusive design online education advan...  \n",
       "207  making successful decisions strategy law  ethi...  \n",
       "208  achieving advanced insights bigquery advanced ...  \n",
       "209  exploring beethovens piano sonatas calibrated ...  "
      ]
     },
     "execution_count": 19,
     "metadata": {},
     "output_type": "execute_result"
    }
   ],
   "source": [
    "new_df[200:210]"
   ]
  },
  {
   "cell_type": "code",
   "execution_count": 20,
   "id": "e7b9c490-1837-45bc-a694-8c626fe61c1b",
   "metadata": {},
   "outputs": [],
   "source": [
    "from sklearn.feature_extraction.text import CountVectorizer"
   ]
  },
  {
   "cell_type": "code",
   "execution_count": 21,
   "id": "612ef3a7-301b-452f-9fa5-ae3c2724e3be",
   "metadata": {},
   "outputs": [
    {
     "data": {
      "text/html": [
       "<div>\n",
       "<style scoped>\n",
       "    .dataframe tbody tr th:only-of-type {\n",
       "        vertical-align: middle;\n",
       "    }\n",
       "\n",
       "    .dataframe tbody tr th {\n",
       "        vertical-align: top;\n",
       "    }\n",
       "\n",
       "    .dataframe thead th {\n",
       "        text-align: right;\n",
       "    }\n",
       "</style>\n",
       "<table border=\"1\" class=\"dataframe\">\n",
       "  <thead>\n",
       "    <tr style=\"text-align: right;\">\n",
       "      <th></th>\n",
       "      <th>course_name</th>\n",
       "      <th>tags</th>\n",
       "    </tr>\n",
       "  </thead>\n",
       "  <tbody>\n",
       "    <tr>\n",
       "      <th>200</th>\n",
       "      <td>App Design and Development for iOS</td>\n",
       "      <td>app design development ios advanced app design...</td>\n",
       "    </tr>\n",
       "    <tr>\n",
       "      <th>201</th>\n",
       "      <td>Introduction to the Arctic Climate</td>\n",
       "      <td>introduction arctic climate beginner universit...</td>\n",
       "    </tr>\n",
       "    <tr>\n",
       "      <th>202</th>\n",
       "      <td>Introduction to Programming with MATLAB</td>\n",
       "      <td>introduction programming matlab conversant cou...</td>\n",
       "    </tr>\n",
       "    <tr>\n",
       "      <th>203</th>\n",
       "      <td>Pharmaceutical and Medical Device Innovations</td>\n",
       "      <td>pharmaceutical medical device innovations begi...</td>\n",
       "    </tr>\n",
       "    <tr>\n",
       "      <th>204</th>\n",
       "      <td>Software Product Management Capstone</td>\n",
       "      <td>software product management capstone advanced ...</td>\n",
       "    </tr>\n",
       "    <tr>\n",
       "      <th>205</th>\n",
       "      <td>Datadriven Astronomy</td>\n",
       "      <td>datadriven astronomy advanced science undergoi...</td>\n",
       "    </tr>\n",
       "    <tr>\n",
       "      <th>206</th>\n",
       "      <td>Basics of Inclusive Design for Online Education</td>\n",
       "      <td>basics inclusive design online education advan...</td>\n",
       "    </tr>\n",
       "    <tr>\n",
       "      <th>207</th>\n",
       "      <td>Making Successful Decisions through the Strate...</td>\n",
       "      <td>making successful decisions strategy law  ethi...</td>\n",
       "    </tr>\n",
       "    <tr>\n",
       "      <th>208</th>\n",
       "      <td>Achieving Advanced Insights with BigQuery</td>\n",
       "      <td>achieving advanced insights bigquery advanced ...</td>\n",
       "    </tr>\n",
       "    <tr>\n",
       "      <th>209</th>\n",
       "      <td>Exploring Beethovens Piano Sonatas</td>\n",
       "      <td>exploring beethovens piano sonatas calibrated ...</td>\n",
       "    </tr>\n",
       "  </tbody>\n",
       "</table>\n",
       "</div>"
      ],
      "text/plain": [
       "                                           course_name  \\\n",
       "200                 App Design and Development for iOS   \n",
       "201                 Introduction to the Arctic Climate   \n",
       "202            Introduction to Programming with MATLAB   \n",
       "203      Pharmaceutical and Medical Device Innovations   \n",
       "204               Software Product Management Capstone   \n",
       "205                               Datadriven Astronomy   \n",
       "206    Basics of Inclusive Design for Online Education   \n",
       "207  Making Successful Decisions through the Strate...   \n",
       "208          Achieving Advanced Insights with BigQuery   \n",
       "209                 Exploring Beethovens Piano Sonatas   \n",
       "\n",
       "                                                  tags  \n",
       "200  app design development ios advanced app design...  \n",
       "201  introduction arctic climate beginner universit...  \n",
       "202  introduction programming matlab conversant cou...  \n",
       "203  pharmaceutical medical device innovations begi...  \n",
       "204  software product management capstone advanced ...  \n",
       "205  datadriven astronomy advanced science undergoi...  \n",
       "206  basics inclusive design online education advan...  \n",
       "207  making successful decisions strategy law  ethi...  \n",
       "208  achieving advanced insights bigquery advanced ...  \n",
       "209  exploring beethovens piano sonatas calibrated ...  "
      ]
     },
     "execution_count": 21,
     "metadata": {},
     "output_type": "execute_result"
    }
   ],
   "source": [
    "new_df[200:210]"
   ]
  },
  {
   "cell_type": "code",
   "execution_count": 22,
   "id": "e474268d-393d-4a64-997b-295b406592c0",
   "metadata": {},
   "outputs": [],
   "source": [
    "cv = CountVectorizer(max_features=5000,stop_words='english')"
   ]
  },
  {
   "cell_type": "code",
   "execution_count": 23,
   "id": "76b5792c-3841-4973-989a-b4eb0e087316",
   "metadata": {},
   "outputs": [],
   "source": [
    "#vectors = cv.fit_transform(new_df['tags']).toarray()\n",
    "vectors = cv.fit_transform(new_df['tags'])"
   ]
  },
  {
   "cell_type": "code",
   "execution_count": 24,
   "id": "8924c697-90a8-4445-bb08-4f1806a2361e",
   "metadata": {},
   "outputs": [
    {
     "data": {
      "text/plain": [
       "matrix([[0, 0, 0, ..., 0, 0, 0],\n",
       "        [0, 0, 0, ..., 0, 0, 0],\n",
       "        [0, 0, 0, ..., 0, 0, 0],\n",
       "        ...,\n",
       "        [0, 0, 0, ..., 0, 0, 0],\n",
       "        [0, 0, 0, ..., 0, 0, 0],\n",
       "        [0, 0, 0, ..., 0, 0, 0]], dtype=int64)"
      ]
     },
     "execution_count": 24,
     "metadata": {},
     "output_type": "execute_result"
    }
   ],
   "source": [
    "vectors.todense()\n"
   ]
  },
  {
   "cell_type": "code",
   "execution_count": 25,
   "id": "f5dd94df-9452-4018-a2db-2499aaf174ff",
   "metadata": {},
   "outputs": [
    {
     "data": {
      "text/plain": [
       "(3522, 5000)"
      ]
     },
     "execution_count": 25,
     "metadata": {},
     "output_type": "execute_result"
    }
   ],
   "source": [
    "vectors.shape"
   ]
  },
  {
   "cell_type": "code",
   "execution_count": 26,
   "id": "3dc7de42-5800-4ac7-9579-438710423bed",
   "metadata": {},
   "outputs": [
    {
     "name": "stderr",
     "output_type": "stream",
     "text": [
      "C:\\Users\\shiby\\anaconda3\\lib\\site-packages\\sklearn\\utils\\deprecation.py:87: FutureWarning: Function get_feature_names is deprecated; get_feature_names is deprecated in 1.0 and will be removed in 1.2. Please use get_feature_names_out instead.\n",
      "  warnings.warn(msg, category=FutureWarning)\n"
     ]
    }
   ],
   "source": [
    "df_cv_words=pd.DataFrame(vectors.todense(),columns=cv.get_feature_names())"
   ]
  },
  {
   "cell_type": "code",
   "execution_count": 27,
   "id": "9d956aad-d260-46c0-9c59-d8f159ae1bf2",
   "metadata": {},
   "outputs": [
    {
     "data": {
      "text/html": [
       "<div>\n",
       "<style scoped>\n",
       "    .dataframe tbody tr th:only-of-type {\n",
       "        vertical-align: middle;\n",
       "    }\n",
       "\n",
       "    .dataframe tbody tr th {\n",
       "        vertical-align: top;\n",
       "    }\n",
       "\n",
       "    .dataframe thead th {\n",
       "        text-align: right;\n",
       "    }\n",
       "</style>\n",
       "<table border=\"1\" class=\"dataframe\">\n",
       "  <thead>\n",
       "    <tr style=\"text-align: right;\">\n",
       "      <th></th>\n",
       "      <th>10</th>\n",
       "      <th>100</th>\n",
       "      <th>1000</th>\n",
       "      <th>10000</th>\n",
       "      <th>101</th>\n",
       "      <th>11</th>\n",
       "      <th>12</th>\n",
       "      <th>13</th>\n",
       "      <th>14</th>\n",
       "      <th>15</th>\n",
       "      <th>...</th>\n",
       "      <th>york</th>\n",
       "      <th>youll</th>\n",
       "      <th>young</th>\n",
       "      <th>youre</th>\n",
       "      <th>youth</th>\n",
       "      <th>youtube</th>\n",
       "      <th>youve</th>\n",
       "      <th>zero</th>\n",
       "      <th>zoom</th>\n",
       "      <th>zos</th>\n",
       "    </tr>\n",
       "  </thead>\n",
       "  <tbody>\n",
       "    <tr>\n",
       "      <th>0</th>\n",
       "      <td>0</td>\n",
       "      <td>0</td>\n",
       "      <td>0</td>\n",
       "      <td>0</td>\n",
       "      <td>0</td>\n",
       "      <td>0</td>\n",
       "      <td>0</td>\n",
       "      <td>0</td>\n",
       "      <td>0</td>\n",
       "      <td>0</td>\n",
       "      <td>...</td>\n",
       "      <td>0</td>\n",
       "      <td>5</td>\n",
       "      <td>0</td>\n",
       "      <td>0</td>\n",
       "      <td>0</td>\n",
       "      <td>0</td>\n",
       "      <td>0</td>\n",
       "      <td>0</td>\n",
       "      <td>0</td>\n",
       "      <td>0</td>\n",
       "    </tr>\n",
       "    <tr>\n",
       "      <th>1</th>\n",
       "      <td>0</td>\n",
       "      <td>0</td>\n",
       "      <td>0</td>\n",
       "      <td>0</td>\n",
       "      <td>0</td>\n",
       "      <td>0</td>\n",
       "      <td>0</td>\n",
       "      <td>0</td>\n",
       "      <td>0</td>\n",
       "      <td>0</td>\n",
       "      <td>...</td>\n",
       "      <td>0</td>\n",
       "      <td>0</td>\n",
       "      <td>0</td>\n",
       "      <td>0</td>\n",
       "      <td>0</td>\n",
       "      <td>0</td>\n",
       "      <td>0</td>\n",
       "      <td>0</td>\n",
       "      <td>0</td>\n",
       "      <td>0</td>\n",
       "    </tr>\n",
       "    <tr>\n",
       "      <th>2</th>\n",
       "      <td>0</td>\n",
       "      <td>0</td>\n",
       "      <td>0</td>\n",
       "      <td>0</td>\n",
       "      <td>0</td>\n",
       "      <td>0</td>\n",
       "      <td>0</td>\n",
       "      <td>0</td>\n",
       "      <td>0</td>\n",
       "      <td>0</td>\n",
       "      <td>...</td>\n",
       "      <td>0</td>\n",
       "      <td>0</td>\n",
       "      <td>0</td>\n",
       "      <td>0</td>\n",
       "      <td>0</td>\n",
       "      <td>0</td>\n",
       "      <td>0</td>\n",
       "      <td>0</td>\n",
       "      <td>0</td>\n",
       "      <td>0</td>\n",
       "    </tr>\n",
       "    <tr>\n",
       "      <th>3</th>\n",
       "      <td>0</td>\n",
       "      <td>0</td>\n",
       "      <td>0</td>\n",
       "      <td>0</td>\n",
       "      <td>0</td>\n",
       "      <td>0</td>\n",
       "      <td>0</td>\n",
       "      <td>0</td>\n",
       "      <td>0</td>\n",
       "      <td>0</td>\n",
       "      <td>...</td>\n",
       "      <td>0</td>\n",
       "      <td>0</td>\n",
       "      <td>0</td>\n",
       "      <td>0</td>\n",
       "      <td>0</td>\n",
       "      <td>0</td>\n",
       "      <td>0</td>\n",
       "      <td>0</td>\n",
       "      <td>0</td>\n",
       "      <td>0</td>\n",
       "    </tr>\n",
       "    <tr>\n",
       "      <th>4</th>\n",
       "      <td>0</td>\n",
       "      <td>0</td>\n",
       "      <td>0</td>\n",
       "      <td>0</td>\n",
       "      <td>0</td>\n",
       "      <td>0</td>\n",
       "      <td>0</td>\n",
       "      <td>0</td>\n",
       "      <td>0</td>\n",
       "      <td>0</td>\n",
       "      <td>...</td>\n",
       "      <td>0</td>\n",
       "      <td>3</td>\n",
       "      <td>0</td>\n",
       "      <td>1</td>\n",
       "      <td>0</td>\n",
       "      <td>0</td>\n",
       "      <td>0</td>\n",
       "      <td>0</td>\n",
       "      <td>0</td>\n",
       "      <td>0</td>\n",
       "    </tr>\n",
       "    <tr>\n",
       "      <th>...</th>\n",
       "      <td>...</td>\n",
       "      <td>...</td>\n",
       "      <td>...</td>\n",
       "      <td>...</td>\n",
       "      <td>...</td>\n",
       "      <td>...</td>\n",
       "      <td>...</td>\n",
       "      <td>...</td>\n",
       "      <td>...</td>\n",
       "      <td>...</td>\n",
       "      <td>...</td>\n",
       "      <td>...</td>\n",
       "      <td>...</td>\n",
       "      <td>...</td>\n",
       "      <td>...</td>\n",
       "      <td>...</td>\n",
       "      <td>...</td>\n",
       "      <td>...</td>\n",
       "      <td>...</td>\n",
       "      <td>...</td>\n",
       "      <td>...</td>\n",
       "    </tr>\n",
       "    <tr>\n",
       "      <th>3517</th>\n",
       "      <td>0</td>\n",
       "      <td>0</td>\n",
       "      <td>0</td>\n",
       "      <td>0</td>\n",
       "      <td>0</td>\n",
       "      <td>0</td>\n",
       "      <td>0</td>\n",
       "      <td>0</td>\n",
       "      <td>0</td>\n",
       "      <td>1</td>\n",
       "      <td>...</td>\n",
       "      <td>0</td>\n",
       "      <td>0</td>\n",
       "      <td>0</td>\n",
       "      <td>0</td>\n",
       "      <td>0</td>\n",
       "      <td>0</td>\n",
       "      <td>0</td>\n",
       "      <td>0</td>\n",
       "      <td>0</td>\n",
       "      <td>0</td>\n",
       "    </tr>\n",
       "    <tr>\n",
       "      <th>3518</th>\n",
       "      <td>0</td>\n",
       "      <td>0</td>\n",
       "      <td>0</td>\n",
       "      <td>0</td>\n",
       "      <td>0</td>\n",
       "      <td>0</td>\n",
       "      <td>0</td>\n",
       "      <td>0</td>\n",
       "      <td>0</td>\n",
       "      <td>0</td>\n",
       "      <td>...</td>\n",
       "      <td>0</td>\n",
       "      <td>0</td>\n",
       "      <td>0</td>\n",
       "      <td>0</td>\n",
       "      <td>0</td>\n",
       "      <td>0</td>\n",
       "      <td>0</td>\n",
       "      <td>0</td>\n",
       "      <td>0</td>\n",
       "      <td>0</td>\n",
       "    </tr>\n",
       "    <tr>\n",
       "      <th>3519</th>\n",
       "      <td>0</td>\n",
       "      <td>0</td>\n",
       "      <td>0</td>\n",
       "      <td>0</td>\n",
       "      <td>0</td>\n",
       "      <td>0</td>\n",
       "      <td>0</td>\n",
       "      <td>0</td>\n",
       "      <td>0</td>\n",
       "      <td>0</td>\n",
       "      <td>...</td>\n",
       "      <td>0</td>\n",
       "      <td>0</td>\n",
       "      <td>0</td>\n",
       "      <td>0</td>\n",
       "      <td>0</td>\n",
       "      <td>0</td>\n",
       "      <td>0</td>\n",
       "      <td>0</td>\n",
       "      <td>0</td>\n",
       "      <td>0</td>\n",
       "    </tr>\n",
       "    <tr>\n",
       "      <th>3520</th>\n",
       "      <td>0</td>\n",
       "      <td>0</td>\n",
       "      <td>0</td>\n",
       "      <td>0</td>\n",
       "      <td>0</td>\n",
       "      <td>0</td>\n",
       "      <td>0</td>\n",
       "      <td>0</td>\n",
       "      <td>0</td>\n",
       "      <td>1</td>\n",
       "      <td>...</td>\n",
       "      <td>0</td>\n",
       "      <td>0</td>\n",
       "      <td>0</td>\n",
       "      <td>0</td>\n",
       "      <td>0</td>\n",
       "      <td>0</td>\n",
       "      <td>0</td>\n",
       "      <td>0</td>\n",
       "      <td>0</td>\n",
       "      <td>0</td>\n",
       "    </tr>\n",
       "    <tr>\n",
       "      <th>3521</th>\n",
       "      <td>0</td>\n",
       "      <td>0</td>\n",
       "      <td>0</td>\n",
       "      <td>0</td>\n",
       "      <td>0</td>\n",
       "      <td>0</td>\n",
       "      <td>0</td>\n",
       "      <td>0</td>\n",
       "      <td>0</td>\n",
       "      <td>0</td>\n",
       "      <td>...</td>\n",
       "      <td>0</td>\n",
       "      <td>0</td>\n",
       "      <td>0</td>\n",
       "      <td>0</td>\n",
       "      <td>0</td>\n",
       "      <td>0</td>\n",
       "      <td>0</td>\n",
       "      <td>0</td>\n",
       "      <td>0</td>\n",
       "      <td>0</td>\n",
       "    </tr>\n",
       "  </tbody>\n",
       "</table>\n",
       "<p>3522 rows × 5000 columns</p>\n",
       "</div>"
      ],
      "text/plain": [
       "      10  100  1000  10000  101  11  12  13  14  15  ...  york  youll  young  \\\n",
       "0      0    0     0      0    0   0   0   0   0   0  ...     0      5      0   \n",
       "1      0    0     0      0    0   0   0   0   0   0  ...     0      0      0   \n",
       "2      0    0     0      0    0   0   0   0   0   0  ...     0      0      0   \n",
       "3      0    0     0      0    0   0   0   0   0   0  ...     0      0      0   \n",
       "4      0    0     0      0    0   0   0   0   0   0  ...     0      3      0   \n",
       "...   ..  ...   ...    ...  ...  ..  ..  ..  ..  ..  ...   ...    ...    ...   \n",
       "3517   0    0     0      0    0   0   0   0   0   1  ...     0      0      0   \n",
       "3518   0    0     0      0    0   0   0   0   0   0  ...     0      0      0   \n",
       "3519   0    0     0      0    0   0   0   0   0   0  ...     0      0      0   \n",
       "3520   0    0     0      0    0   0   0   0   0   1  ...     0      0      0   \n",
       "3521   0    0     0      0    0   0   0   0   0   0  ...     0      0      0   \n",
       "\n",
       "      youre  youth  youtube  youve  zero  zoom  zos  \n",
       "0         0      0        0      0     0     0    0  \n",
       "1         0      0        0      0     0     0    0  \n",
       "2         0      0        0      0     0     0    0  \n",
       "3         0      0        0      0     0     0    0  \n",
       "4         1      0        0      0     0     0    0  \n",
       "...     ...    ...      ...    ...   ...   ...  ...  \n",
       "3517      0      0        0      0     0     0    0  \n",
       "3518      0      0        0      0     0     0    0  \n",
       "3519      0      0        0      0     0     0    0  \n",
       "3520      0      0        0      0     0     0    0  \n",
       "3521      0      0        0      0     0     0    0  \n",
       "\n",
       "[3522 rows x 5000 columns]"
      ]
     },
     "execution_count": 27,
     "metadata": {},
     "output_type": "execute_result"
    }
   ],
   "source": [
    "df_cv_words"
   ]
  },
  {
   "cell_type": "code",
   "execution_count": null,
   "id": "7d91072a-4121-42d3-bc05-7fd794c7b54b",
   "metadata": {},
   "outputs": [],
   "source": [
    "import pandas as pd\n",
    "import matplotlib.pyplot as plt\n",
    "\n",
    "\n",
    "\n",
    "# create a figure and axis\n",
    "fig, ax = plt.subplots()\n",
    "\n",
    "# plot the dataframe as a table\n",
    "table = ax.table(cellText=df_cv_words.values, colLabels=df_cv_words.columns, loc='center')\n",
    "table.auto_set_font_size(False)\n",
    "table.set_fontsize(14)\n",
    "table.scale(1, 1.5)\n",
    "\n",
    "# hide axes\n",
    "ax.axis('tight')\n",
    "ax.axis('off')\n",
    "\n",
    "# save the figure as an image\n",
    "plt.savefig('df_cv_words.png', bbox_inches='tight')"
   ]
  },
  {
   "cell_type": "code",
   "execution_count": null,
   "id": "e921e256-a682-4860-a1a4-912411df59f5",
   "metadata": {},
   "outputs": [],
   "source": [
    "import nltk #for stemming process"
   ]
  },
  {
   "cell_type": "code",
   "execution_count": null,
   "id": "52453c26-6ae1-4296-b691-8ad417b5cce8",
   "metadata": {},
   "outputs": [],
   "source": [
    "from nltk.stem.porter import PorterStemmer\n",
    "ps = PorterStemmer()"
   ]
  },
  {
   "cell_type": "code",
   "execution_count": null,
   "id": "0164eb71-5f34-4ac9-92d0-72585ef4ec83",
   "metadata": {},
   "outputs": [],
   "source": [
    "def stem(text):\n",
    "    y=[]\n",
    "    \n",
    "    for i in text.split():\n",
    "        y.append(ps.stem(i))\n",
    "    \n",
    "    return \" \".join(y)"
   ]
  },
  {
   "cell_type": "code",
   "execution_count": null,
   "id": "d65b07ed-949d-41bf-8240-36276c103955",
   "metadata": {},
   "outputs": [],
   "source": [
    "new_df['tags'] = new_df['tags'].apply(stem) #applying stemming on the tags column"
   ]
  },
  {
   "cell_type": "code",
   "execution_count": null,
   "id": "f7245988-ca81-497f-9b37-68670060239b",
   "metadata": {},
   "outputs": [],
   "source": [
    "print(new_df['tags'])"
   ]
  },
  {
   "cell_type": "code",
   "execution_count": null,
   "id": "3a71dc59-120d-43a8-a43e-7f8bb3bf295d",
   "metadata": {},
   "outputs": [],
   "source": [
    "from sklearn.metrics.pairwise import cosine_similarity\n",
    "similarity = cosine_similarity(vectors)"
   ]
  },
  {
   "cell_type": "code",
   "execution_count": null,
   "id": "7abe7280-b2ce-490d-a53c-938a40337ecf",
   "metadata": {},
   "outputs": [],
   "source": [
    "print(similarity)"
   ]
  },
  {
   "cell_type": "code",
   "execution_count": null,
   "id": "35082f06-fcad-4515-af11-d5c5435bd0ae",
   "metadata": {},
   "outputs": [],
   "source": [
    "def recommend(course):\n",
    "    course_index = new_df[new_df['course_name'] == course].index[0]\n",
    "    distances = similarity[course_index]\n",
    "    course_list = sorted(list(enumerate(distances)),reverse=True, key=lambda x:x[1])[1:7]\n",
    "    \n",
    "    for i in course_list:\n",
    "        print(new_df.iloc[i[0]].course_name)"
   ]
  },
  {
   "cell_type": "code",
   "execution_count": null,
   "id": "09405077-6908-4d5e-91f9-06bd6197dd57",
   "metadata": {},
   "outputs": [],
   "source": [
    "recommend('Organic Solar Cells  Theory and Practice')"
   ]
  },
  {
   "cell_type": "code",
   "execution_count": null,
   "id": "f1bde356-8d06-4a2e-8d58-caac2f4384f5",
   "metadata": {},
   "outputs": [],
   "source": [
    "new_df[new_df['course_name']== 'Silicon Thin Film Solar Cells'].index"
   ]
  },
  {
   "cell_type": "code",
   "execution_count": null,
   "id": "1bc930e4-cf44-4dc3-b744-de6096f59800",
   "metadata": {},
   "outputs": [],
   "source": []
  }
 ],
 "metadata": {
  "kernelspec": {
   "display_name": "Python 3 (ipykernel)",
   "language": "python",
   "name": "python3"
  },
  "language_info": {
   "codemirror_mode": {
    "name": "ipython",
    "version": 3
   },
   "file_extension": ".py",
   "mimetype": "text/x-python",
   "name": "python",
   "nbconvert_exporter": "python",
   "pygments_lexer": "ipython3",
   "version": "3.9.13"
  }
 },
 "nbformat": 4,
 "nbformat_minor": 5
}
